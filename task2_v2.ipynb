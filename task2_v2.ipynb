{
  "cells": [
    {
      "cell_type": "markdown",
      "source": [
        "Импорт библиотек"
      ],
      "metadata": {
        "id": "r0E57vqZXiyQ"
      }
    },
    {
      "cell_type": "code",
      "source": [
        "import numpy as np\n",
        "import matplotlib.pyplot as plt"
      ],
      "metadata": {
        "id": "nQ90A9PuXiLj"
      },
      "execution_count": 1,
      "outputs": []
    },
    {
      "cell_type": "markdown",
      "source": [
        "#Задание функций, градиентов и гессионов"
      ],
      "metadata": {
        "id": "98j0Ro2WXVUI"
      }
    },
    {
      "cell_type": "markdown",
      "source": [
        "f = $x^2 + y^2 + z^2$ (минимум в 0)\n",
        "\n",
        "g = $x^3 + y^3 - 3xy$  (минимума нет)\n",
        "\n",
        "check_fun = $-2x_0^3 + 4x_0^2 + x_1^4 - 3x_1^2 + 2x_2^2 * x_1 - 5x_2 + x_3^4 - x_3^2 * x_0^2 - 10$ (минимума нет)\n",
        "\n",
        "fun4 = $(x_0+3)^4 + (x_1-1)^2 + (x_2-2)^2 + (x_3+x_0)^2$ (минимум = 0 в точке (-3, 1, 2, 3))"
      ],
      "metadata": {
        "id": "RkZsZZJwXter"
      }
    },
    {
      "cell_type": "code",
      "source": [
        "def f(x):\n",
        "    x,y,z = x\n",
        "    return x**2 + y**2 + z**2\n",
        "\n",
        "def grad_f(x):\n",
        "    x,y,z = x\n",
        "    return np.array([2*x, 2*y, 2*z])\n",
        "\n",
        "def hessian_f(x):\n",
        "    x,y,z = x\n",
        "    return np.array([[2, 0, 0],\n",
        "                    [0, 2, 0],\n",
        "                    [0, 0, 2]])\n",
        "\n",
        "def g(x):\n",
        "    x, y = x\n",
        "    return x**3 + y**3 - 3*x*y\n",
        "\n",
        "def grad_g(x):\n",
        "    x, y = x\n",
        "    return np.array([3*x**2 - 3*y, 3*y**2 - 3*x])\n",
        "\n",
        "def hessian_g(x):\n",
        "    x, y = x\n",
        "    return np.array([[6*x, -3],\n",
        "                    [-3, 6*y]])\n",
        "\n",
        "def check_fun(x):\n",
        "    return -2*x[0]**3 + 4*x[0]**2 + x[1]**4 - 3*x[1]**2 + 2*x[2]**2 * x[1] - 5*x[2] + x[3]**4 - x[3]**2 * x[0]**2 - 10\n",
        "def grad_check_fun(x):\n",
        "    return np.array([-6*x[0]**2 + 8*x[0] - 2*x[3]**2 * x[0],\n",
        "            4*x[1]**3 - 6*x[1] + 2*x[2]**2,\n",
        "            4*x[2] * x[1] - 5,\n",
        "            4*x[3]**3 - 2*x[3] * x[0]**2])\n",
        "def hessian_check_fun(x):\n",
        "    return np.array([[-12*x[0] + 8 - 2*x[3]**2, 0, 0, -4*x[3]*x[0]],\n",
        "            [0, 12*x[1]**2 - 6, 4*x[2], 0],\n",
        "            [0, 4*x[2], 4*x[1], 0],\n",
        "            [-4*x[3]*x[0], 0, 0, 12*x[3]**2 - 2*x[0]**2]])\n",
        "\n",
        "def fun4(x):\n",
        "    x0, x1, x2, x3 = x\n",
        "    return (x0+3)**4 + (x1-1)**2 + (x2-2)**2 + (x3+x0)**2\n",
        "def grad_fun4(x):\n",
        "    x0, x1, x2, x3 = x\n",
        "    return [4*(x0+3)**3 + 2*(x3+x0),\n",
        "            2*(x1-1), 2*(x2-2), 2*(x3+x0)]\n",
        "def hessian_fun4(x):\n",
        "    x0, x1, x2, x3 = x\n",
        "    return [[12*(x0+3)**2 + 2,0,0,2],\n",
        "            [0,2,0,0], [0,0,2,0], [2,0,0,2]]"
      ],
      "metadata": {
        "id": "LbSyhLCeIi_5"
      },
      "execution_count": 2,
      "outputs": []
    },
    {
      "cell_type": "markdown",
      "source": [
        "#Проверка на выпуклость"
      ],
      "metadata": {
        "id": "sbxlU4HpLNut"
      }
    },
    {
      "cell_type": "markdown",
      "source": [
        "Метод сопряенных градиентов применим только для выпуклых функций, поэтому сначала надо проверить на выпуклость"
      ],
      "metadata": {
        "id": "o8iHChb9XLwN"
      }
    },
    {
      "cell_type": "code",
      "source": [
        "def check_convexity(func, grad_func, hessian_func, x_range):\n",
        "    for x in x_range:\n",
        "        H = hessian_func(x)\n",
        "        eigenvalues = np.linalg.eigvals(H)\n",
        "        if not np.all(eigenvalues >= 0):\n",
        "            return False\n",
        "    return True"
      ],
      "metadata": {
        "id": "2RLr1KoRIkkC"
      },
      "execution_count": 3,
      "outputs": []
    },
    {
      "cell_type": "code",
      "source": [
        "x = np.linspace(-10, 10, 10)\n",
        "\n",
        "# Проверка выпуклости f(x, y, z)\n",
        "x_range = np.array(np.meshgrid(x, x, x)).T.reshape(-1, 3)\n",
        "is_convex = check_convexity(f, grad_f, hessian_f, x_range)\n",
        "print(f\"f(x, y, z) выпуклая: {is_convex}\")\n",
        "\n",
        "# Проверка выпуклости g(x, y)\n",
        "y_range = np.array(np.meshgrid(x, x)).T.reshape(-1, 2)\n",
        "is_convex = check_convexity(g, grad_g, hessian_g, y_range)\n",
        "print(f\"g(x, y) выпуклая: {is_convex}\")\n",
        "\n",
        "#Проверка выпуклости check_fun(x,x,x,x)\n",
        "check_x_range = np.array(np.meshgrid(x, x, x, x)).T.reshape(-1, 4)\n",
        "is_convex = check_convexity(check_fun, grad_check_fun, hessian_check_fun, check_x_range)\n",
        "print(f\"check_fun(x, y, z, k) выпуклая: {is_convex}\")\n",
        "\n",
        "#Проверка выпуклости fun4(x,x,x,x)\n",
        "fun4_x_range = np.array(np.meshgrid(x, x, x, x)).T.reshape(-1, 4)\n",
        "is_convex = check_convexity(fun4, grad_fun4, hessian_fun4, fun4_x_range)\n",
        "print(f\"fun4(x, y, z, k) выпуклая: {is_convex}\")"
      ],
      "metadata": {
        "id": "6jfCMM6KIpUu",
        "outputId": "c01816e5-440d-4a9c-f61e-954f1da470e5",
        "colab": {
          "base_uri": "https://localhost:8080/"
        }
      },
      "execution_count": 4,
      "outputs": [
        {
          "output_type": "stream",
          "name": "stdout",
          "text": [
            "f(x, y, z) выпуклая: True\n",
            "g(x, y) выпуклая: False\n",
            "check_fun(x, y, z, k) выпуклая: False\n",
            "fun4(x, y, z, k) выпуклая: True\n"
          ]
        }
      ]
    },
    {
      "cell_type": "markdown",
      "source": [
        "# Реализация действий с матрицами"
      ],
      "metadata": {
        "id": "yya833kvWM6_"
      }
    },
    {
      "cell_type": "code",
      "source": [
        "# перемножение числа и вектора\n",
        "def mult(a, arr):\n",
        "    return np.array([i*a for i in arr])\n",
        "\n",
        "# сложение двух векторов\n",
        "def add(arr1, arr2):\n",
        "    try:\n",
        "        return np.array([arr1[i]+arr2[i] for i in range(len(arr1))])\n",
        "    except TypeError:\n",
        "        arr1+arr2[0]\n",
        "\n",
        "# Скалярное произведение\n",
        "def mydot(arr1, arr2):\n",
        "    try:\n",
        "        ans=0\n",
        "        for i in range(len(arr1)):\n",
        "            ans+=arr1[i]*arr2[i]\n",
        "        return ans\n",
        "    except:\n",
        "        return arr1*arr2[0]"
      ],
      "metadata": {
        "id": "SZXt4osqWNnD"
      },
      "execution_count": 5,
      "outputs": []
    },
    {
      "cell_type": "markdown",
      "source": [
        "# Реализация метода сопряженных градиентов"
      ],
      "metadata": {
        "id": "u4LHQ4f3htlT"
      }
    },
    {
      "cell_type": "code",
      "source": [
        "def conjugate_gradient5(f, grad_f, x0, tol=1e-6, max_iter=200, alpha_max=1.0, c=0.5, rho=0.5, alpha_min=1e-8):\n",
        "    \"\"\"\n",
        "    Метод сопряженных градиентов с backtracking line search.\n",
        "\n",
        "    Args:\n",
        "    f: Функция, для которой нужно найти минимум.\n",
        "    grad_f: Градиент функции.\n",
        "    x0: Начальная точка поиска.\n",
        "    tol: Допустимая погрешность.\n",
        "    max_iter: Максимальное количество итераций.\n",
        "    alpha_max: Максимальная длина шага.\n",
        "    c: Параметр для backtracking line search.\n",
        "    rho: Параметр для backtracking line search.\n",
        "    alpha_min: Минимальная длина шага.\n",
        "\n",
        "    Returns:\n",
        "    Кортеж (x_min, f_min, arr_f), где x_min - точка минимума, f_min - значение функции в минимуме, arr_f - история значений функции.\n",
        "    \"\"\"\n",
        "    arr_f = [f(x0)]\n",
        "    x = x0\n",
        "    r = mult(-1, grad_f(x))\n",
        "    d = r\n",
        "\n",
        "    for i in range(max_iter):\n",
        "        alpha = alpha_max\n",
        "        # Продвинутый поиск по линии с обратным шагом\n",
        "        while f(add(x, mult(alpha, d))) > f(x) + c * alpha * mydot(grad_f(x), d) and alpha > alpha_min:\n",
        "            alpha *= rho\n",
        "\n",
        "        if alpha < alpha_min:  # Если шаг слишком мал, прерываем\n",
        "            break\n",
        "\n",
        "        x = add(x, mult(alpha, d))\n",
        "        arr_f.append(f(x))\n",
        "        r_new = mult(-1, grad_f(x))\n",
        "        beta = mydot(r_new, r_new) / mydot(r, r)\n",
        "        d = add(r_new, mult(beta, d))\n",
        "        r = r_new\n",
        "\n",
        "        # Проверка условия сходимости\n",
        "        if np.linalg.norm(r) < tol:\n",
        "            break\n",
        "\n",
        "    f_min = f(x)\n",
        "    return x, f_min, arr_f"
      ],
      "metadata": {
        "id": "t0TDuAqE7-Yt"
      },
      "execution_count": 6,
      "outputs": []
    },
    {
      "cell_type": "markdown",
      "source": [
        "#Применение метода сопряженных градиентов"
      ],
      "metadata": {
        "id": "zGUKEEUWLufe"
      }
    },
    {
      "cell_type": "code",
      "source": [
        "# Начальные точки\n",
        "x0_1 = [1, 1, 6]\n",
        "x0_2 = [8, -2]\n",
        "check_x_0 = [-1,-1,-1,-1]\n",
        "fun4_x0 = [-1,0.5,0.5,0.5]"
      ],
      "metadata": {
        "id": "VxWevugLMP0u"
      },
      "execution_count": 7,
      "outputs": []
    },
    {
      "cell_type": "code",
      "source": [
        "x_min1, f_min1, arr_f1 = conjugate_gradient5(f, grad_f, x0_1)\n",
        "x_min2, f_min2, arr_f2 = conjugate_gradient5(g, grad_g, x0_2)\n",
        "check_x_min, check_f_min, check_arr_f = conjugate_gradient5(check_fun, grad_check_fun, check_x_0)\n",
        "fun4_x_min, fun4_f_min, fun4_arr_f = conjugate_gradient5(fun4, grad_fun4, fun4_x0)"
      ],
      "metadata": {
        "id": "AmRNx5tIQHuu",
        "collapsed": true
      },
      "execution_count": null,
      "outputs": []
    },
    {
      "cell_type": "code",
      "source": [
        "def to_float(value):\n",
        "    try:\n",
        "      arr = []\n",
        "      for i in value:\n",
        "        arr.append(\"{:.2f}\".format(i))\n",
        "      return arr\n",
        "    except:\n",
        "      return \"{:.2f}\".format(value)\n",
        "\n",
        "print(f\"x_min1: {to_float(x_min1)}, f_min1: {to_float(f_min1)} за {len(arr_f1)} итераций\")\n",
        "print(f\"x_min2: {to_float(x_min2)}, f_min1: {to_float(f_min2)} за {len(arr_f2)} итераций\")\n",
        "print(f\"check_x_min: {to_float(check_x_min)}, check_f_min: {to_float(check_f_min)} за {len(check_arr_f)} итераций\")\n",
        "print(f\"fun4_x_min: {to_float(fun4_x_min)}, fun4_f_min: {to_float(fun4_f_min)} за {len(fun4_arr_f)} итераций\")"
      ],
      "metadata": {
        "id": "RYXJ7r44RZED",
        "outputId": "6094cd77-f462-4b14-d8c1-183ed42a151c",
        "colab": {
          "base_uri": "https://localhost:8080/"
        }
      },
      "execution_count": 9,
      "outputs": [
        {
          "output_type": "stream",
          "name": "stdout",
          "text": [
            "x_min1: ['0.00', '0.00', '0.00'], f_min1: 0.00 за 2 итераций\n",
            "x_min2: ['nan', 'nan'], f_min1: nan за 201 итераций\n",
            "check_x_min: ['nan', 'nan', 'nan', 'nan'], check_f_min: nan за 201 итераций\n",
            "fun4_x_min: ['-3.00', '1.00', '2.00', '3.00'], fun4_f_min: 0.00 за 138 итераций\n"
          ]
        }
      ]
    },
    {
      "cell_type": "markdown",
      "source": [
        "Как мы видим, из-за того, что вторая и третья функции не выпуклые, то метод не смог найти для них точку минимума"
      ],
      "metadata": {
        "id": "V8hUdgWyYJBE"
      }
    },
    {
      "cell_type": "markdown",
      "source": [
        "#Графики"
      ],
      "metadata": {
        "id": "YN2oVHl6V1z5"
      }
    },
    {
      "cell_type": "code",
      "source": [
        "import matplotlib.pyplot as plt\n",
        "\n",
        "# Создаем фигуру и оси для трех графиков\n",
        "fig, axs = plt.subplots(2, 2, figsize=(10, 4))  # 1 строка, 3 колонки\n",
        "\n",
        "# График 1\n",
        "axs[0][0].plot(range(len(arr_f1)), arr_f1, label=\"Функция 1\")\n",
        "axs[0][0].set_xlabel(\"k\")\n",
        "axs[0][0].set_ylabel(\"F(x_k)\")\n",
        "axs[0][0].set_title(\"График F1\")\n",
        "axs[0][0].legend()\n",
        "\n",
        "# График 2\n",
        "axs[0][1].plot(range(len(arr_f2)), arr_f2, label=\"Функция 2\")\n",
        "axs[0][1].set_xlabel(\"k\")\n",
        "axs[0][1].set_ylabel(\"F(x_k)\")\n",
        "axs[0][1].set_title(\"График F2\")\n",
        "axs[0][1].legend()\n",
        "\n",
        "# График 3\n",
        "axs[1][0].plot(range(len(check_arr_f)), check_arr_f, label=\"Функция check_fun\")\n",
        "axs[1][0].set_xlabel(\"k\")\n",
        "axs[1][0].set_ylabel(\"check_fun(x_k)\")\n",
        "axs[1][0].set_title(\"График check_fun\")\n",
        "axs[1][0].legend()\n",
        "\n",
        "# График 4\n",
        "axs[1][1].plot(range(len(fun4_arr_f)), fun4_arr_f, label=\"Функция fun4\")\n",
        "axs[1][1].set_xlabel(\"k\")\n",
        "axs[1][1].set_ylabel(\"fun4(x_k)\")\n",
        "axs[1][1].set_title(\"График fun4\")\n",
        "axs[1][1].legend()\n",
        "\n",
        "# Показываем графики\n",
        "plt.tight_layout()  # Для улучшения расположения графиков\n",
        "plt.show()"
      ],
      "metadata": {
        "colab": {
          "base_uri": "https://localhost:8080/",
          "height": 406
        },
        "id": "d9gMlVkHiaH0",
        "outputId": "af7faf85-20e5-47e6-c2b9-0e9138d18b93"
      },
      "execution_count": 13,
      "outputs": [
        {
          "output_type": "display_data",
          "data": {
            "text/plain": [
              "<Figure size 1000x400 with 4 Axes>"
            ],
            "image/png": "[encoded data removed]"
          },
          "metadata": {}
        }
      ]
    },
    {
      "cell_type": "markdown",
      "source": [
        "Аналогично: первая функция нашла свой минимум за 2 итерации, 2-я не нашла минимум корректно (значения после 3-й итерации = nan, что не отображено на графике), 3-я тоже ничего не нашла на третьей итерации став = nan, а вот 4-я за 138 итераций вполне успешно нашла минимум"
      ],
      "metadata": {
        "id": "TRhREEgTYSfd"
      }
    }
  ],
  "metadata": {
    "colab": {
      "provenance": [],
      "collapsed_sections": [
        "EgWkVDn1oFlw"
      ]
    },
    "kernelspec": {
      "display_name": "Python 3",
      "name": "python3"
    }
  },
  "nbformat": 4,
  "nbformat_minor": 0
}