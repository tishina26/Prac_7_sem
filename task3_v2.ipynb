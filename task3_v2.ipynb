{
  "cells": [
    {
      "cell_type": "markdown",
      "source": [
        "Импорт библиотек"
      ],
      "metadata": {
        "id": "r0E57vqZXiyQ"
      }
    },
    {
      "cell_type": "code",
      "source": [
        "import numpy as np\n",
        "import matplotlib.pyplot as plt\n",
        "from scipy.optimize import minimize"
      ],
      "metadata": {
        "id": "nQ90A9PuXiLj"
      },
      "execution_count": null,
      "outputs": []
    },
    {
      "cell_type": "markdown",
      "source": [
        "#Задание функций, градиентов и гессианов"
      ],
      "metadata": {
        "id": "98j0Ro2WXVUI"
      }
    },
    {
      "cell_type": "markdown",
      "source": [
        "fun = $-2x_0^3+4x_0^2+x_1^4-3x_1^3-4x_2^3+2x_2^4-5x_3+x_3^2+10+x_0+x_1+x_2+x_3$"
      ],
      "metadata": {
        "id": "RkZsZZJwXter"
      }
    },
    {
      "cell_type": "code",
      "source": [
        "def fun(x):\n",
        "    # print(x)\n",
        "    x0,x1,x2,x3=x\n",
        "    return -2*x0**3+4*x0**2+x1**4-3*x1**3-4*x2**3+2*x2**4-5*x3+x3**2+10+x0+x1+x2+x3"
      ],
      "metadata": {
        "id": "LbSyhLCeIi_5"
      },
      "execution_count": null,
      "outputs": []
    },
    {
      "cell_type": "markdown",
      "source": [
        "# Реализация действий с матрицами"
      ],
      "metadata": {
        "id": "yya833kvWM6_"
      }
    },
    {
      "cell_type": "code",
      "source": [
        "# перемножение числа и вектора\n",
        "def mult(a, arr):\n",
        "    return np.array([i*a for i in arr])\n",
        "\n",
        "# сложение двух векторов\n",
        "def add(arr1, arr2):\n",
        "    try:\n",
        "        return np.array([arr1[i]+arr2[i] for i in range(len(arr1))])\n",
        "    except TypeError:\n",
        "        arr1+arr2[0]\n",
        "\n",
        "# Скалярное произведение\n",
        "def mydot(arr1, arr2):\n",
        "    try:\n",
        "        ans=0\n",
        "        for i in range(len(arr1)):\n",
        "            ans+=arr1[i]*arr2[i]\n",
        "        return ans\n",
        "    except:\n",
        "        return arr1*arr2[0]\n",
        "# взятие нормы вектора\n",
        "def norm(arr):\n",
        "    return sum(i**2 for i in arr)**0.5\n",
        "\n",
        "# реализация численного приближения градиента\n",
        "def my_grad(f, x, h=1e-5):\n",
        "    grad = np.zeros_like(x)\n",
        "    for i in range(len(x)):\n",
        "        xh = x.copy()\n",
        "        x_h = x.copy()\n",
        "        xh[i] += h\n",
        "        x_h[i] -= h\n",
        "        grad[i] = (f(xh) - f(x_h))/h/2\n",
        "    return grad"
      ],
      "metadata": {
        "id": "SZXt4osqWNnD"
      },
      "execution_count": null,
      "outputs": []
    },
    {
      "cell_type": "markdown",
      "source": [
        "# Реализация метода сопряженных градиентов"
      ],
      "metadata": {
        "id": "u4LHQ4f3htlT"
      }
    },
    {
      "cell_type": "code",
      "source": [
        "def find_alpha(f, a,b, tol=1e-6, max_iter = 100):\n",
        "    phi = (1 + 5**0.5) / 2\n",
        "    resphi = 2 - phi\n",
        "\n",
        "    x1 = a + resphi * (b - a)        # начальные точки\n",
        "    x2 = b - resphi * (b - a)\n",
        "    # print(x1,x2)\n",
        "    f1 = f(x1)\n",
        "    f2 = f(x2)\n",
        "    # print(f1,f2)\n",
        "\n",
        "    for _ in range(max_iter):\n",
        "        # print(x1,x2)\n",
        "        if abs(b - a) < tol:\n",
        "            break\n",
        "        # print(\"f1f2\",f1,f2)\n",
        "        if f1 < f2:\n",
        "            b, x2, f2 = x2, x1, f1\n",
        "            x1 = a + resphi * (b - a)\n",
        "            f1 = f(x1)\n",
        "        else:\n",
        "            a, x1, f1 = x1, x2, f2\n",
        "            x2 = b - resphi * (b - a)\n",
        "            f2 = f(x2)\n",
        "\n",
        "\n",
        "    return (a + b) / 2\n"
      ],
      "metadata": {
        "id": "AsaOWhPimYvR"
      },
      "execution_count": null,
      "outputs": []
    },
    {
      "cell_type": "code",
      "source": [
        "def conjugate_gradient5(f, x0, tol=1e-5, max_iter=1000, alpha_max=1.0, c=0.5, rho=0.2, alpha_min=1e-10, max_f = 1e15, end_fun=\"norm_grad\"):\n",
        "    \"\"\"\n",
        "    Метод сопряженных градиентов с backtracking line search.\n",
        "\n",
        "    Args:\n",
        "    f: Функция, для которой нужно найти минимум.\n",
        "    grad_f: Градиент функции.\n",
        "    x0: Начальная точка поиска.\n",
        "    tol: Допустимая погрешность.\n",
        "    max_iter: Максимальное количество итераций.\n",
        "    alpha_max: Максимальная длина шага.\n",
        "    c: Параметр для backtracking line search.\n",
        "    rho: Параметр для backtracking line search.\n",
        "    alpha_min: Минимальная длина шага.\n",
        "    max_f: Максимально допустимое значение f, иначе считаем = null.\n",
        "\n",
        "    Returns:\n",
        "    ans = {\"message\", \"status\", \"nit\", \"x\", \"f_min\": arr_f[-1], \"arr_f\": arr_f}\n",
        "    \"\"\"\n",
        "    arr_f = [f(x0)]\n",
        "    x = x0\n",
        "    r = mult(-1, my_grad(f, x))\n",
        "    d = r\n",
        "\n",
        "    ans = {\"message\": \"not enough iterations\",\n",
        "           \"status\": 3,\n",
        "           \"nit\": 0,\n",
        "           \"x\": x,\n",
        "           \"f_min\": arr_f[-1],\n",
        "           \"arr_f\": arr_f}\n",
        "\n",
        "    for i in range(max_iter):\n",
        "        ans[\"nit\"]+=1\n",
        "        alpha = alpha_max\n",
        "        # Продвинутый поиск по линии с обратным шагом\n",
        "        while f(add(x, mult(alpha, d))) > f(x) + c * alpha * mydot(my_grad(f, x), d) and alpha > alpha_min:\n",
        "            alpha *= rho\n",
        "        # def f_new(alpha): return f(add(x, mult(alpha, d)))\n",
        "        # alpha = find_alpha(f_new, -c,c,tol)\n",
        "\n",
        "        if abs(f(x))>=max_f:\n",
        "            ans[\"message\"] = 'too big f or too small'\n",
        "            ans[\"x\"], ans[\"f_min\"], ans[\"arr_f\"], ans[\"status\"] = x, arr_f[-1], arr_f, 1\n",
        "            return ans\n",
        "        if alpha < alpha_min:  # Если шаг слишком мал, прерываем\n",
        "            ans[\"message\"] = 'too small alpha'\n",
        "            ans[\"x\"], ans[\"f_min\"], ans[\"arr_f\"], ans[\"status\"] = x, arr_f[-1], arr_f, 2\n",
        "            return ans\n",
        "\n",
        "        x = add(x, mult(alpha, d))\n",
        "        arr_f.append(f(x))\n",
        "        r_new = mult(-1, my_grad(f, x))\n",
        "        beta = mydot(r_new, r_new) / mydot(r, r)\n",
        "        # beta = norm(r_new)**2 / norm(r)**2\n",
        "        d = add(r_new, mult(beta, d))\n",
        "        r = r_new\n",
        "\n",
        "        # Проверка условия сходимости\n",
        "        if end_fun==\"norm_grad\":\n",
        "            if norm(r) < tol:\n",
        "                ans[\"message\"] = 'ok'\n",
        "                ans[\"status\"] = 0\n",
        "                break\n",
        "        elif end_fun==\"dif_f\":\n",
        "            if len(arr_f)>2:\n",
        "                if abs(arr_f[-1]-arr_f[-2])<tol:\n",
        "                    ans[\"message\"] = 'ok'\n",
        "                    ans[\"status\"] = 0\n",
        "                    break\n",
        "        elif end_fun==\"norm_f\":\n",
        "            if len(arr_f)>2:\n",
        "                if (arr_f[-1]-arr_f[-2])**2<tol:\n",
        "                    ans[\"message\"] = 'ok'\n",
        "                    ans[\"status\"] = 0\n",
        "                    break\n",
        "    print(end_fun)\n",
        "    ans[\"x\"], ans[\"f_min\"], ans[\"arr_f\"] = x, arr_f[-1], arr_f\n",
        "    return ans"
      ],
      "metadata": {
        "id": "t0TDuAqE7-Yt"
      },
      "execution_count": null,
      "outputs": []
    },
    {
      "cell_type": "markdown",
      "source": [
        "#Применение метода сопряженных градиентов"
      ],
      "metadata": {
        "id": "zGUKEEUWLufe"
      }
    },
    {
      "cell_type": "markdown",
      "source": [
        "## Зависимость решения от начальной точки"
      ],
      "metadata": {
        "id": "rkFRW_Un3DWs"
      }
    },
    {
      "cell_type": "code",
      "source": [
        "res_arr = []\n",
        "res_name = []\n",
        "\n",
        "for i in range(-500,500, 2):\n",
        "    j=i/10\n",
        "    fun_x0 = [j,j,j,j]\n",
        "    res_arr.append(conjugate_gradient5(fun,fun_x0))\n",
        "    res_name.append(str(i))\n",
        "    # print(res_arr[-1])\n",
        "    res_arr[-1][\"right_anser\"]=minimize(fun, x0=np.array(fun_x0), method='CG')\n",
        "    res_arr[-1][\"x0\"] = fun_x0"
      ],
      "metadata": {
        "id": "dQ9Oyb2dh1pV"
      },
      "execution_count": null,
      "outputs": []
    },
    {
      "cell_type": "code",
      "source": [
        "print(\"|--------x0--------|-----------------------x_min-----------------------|--------f_min-------|--nit--|-status-|--message--|----righ_answer_f|--rf_s--|\")\n",
        "for i in range(len(res_arr)):\n",
        "    n = res_name[i]\n",
        "    r = res_arr[i]\n",
        "    x0, x_min, f, arr_f, s, nit, m,rr = r[\"x0\"], r[\"x\"], r[\"f_min\"], r[\"arr_f\"], r[\"status\"],r[\"nit\"],r[\"message\"],r[\"right_anser\"]\n",
        "    rf, rs = rr[\"fun\"], rr[\"status\"]\n",
        "\n",
        "    if s==0:    print(f\"| {x0} | {x_min} | {f} | {nit} | {s} | {m} | {rf} | {rs} |\")"
      ],
      "metadata": {
        "id": "RYXJ7r44RZED",
        "outputId": "c3f0b863-092b-4134-e405-6952036e7bd3",
        "colab": {
          "base_uri": "https://localhost:8080/"
        }
      },
      "execution_count": null,
      "outputs": [
        {
          "output_type": "stream",
          "name": "stdout",
          "text": [
            "|--------x0--------|-----------------------x_min-----------------------|--------f_min-------|--nit--|-status-|--message--|----righ_answer_f|--rf_s--|\n",
            "| [-1.0, -1.0, -1.0, -1.0] | [-0.1150692  -0.31235694 -0.26604372  2.00000322] | 5.548828333953454 | 93 | 0 | ok | -2.935681779438237e+202 | 2 |\n",
            "| [-0.4, -0.4, -0.4, -0.4] | [-0.11506988 -0.3123563  -0.26604435  1.99999606] | 5.548828333956614 | 38 | 0 | ok | 5.548828333939811 | 0 |\n",
            "| [-0.2, -0.2, -0.2, -0.2] | [-0.11506935 -0.31235616 -0.266044    1.99999668] | 5.548828333951368 | 30 | 0 | ok | 5.548828333963622 | 0 |\n",
            "| [0.0, 0.0, 0.0, 0.0] | [-0.11506938 -0.31235615 -0.26604471  1.99999603] | 5.548828333955637 | 38 | 0 | ok | 5.548828333952681 | 0 |\n",
            "| [0.2, 0.2, 0.2, 0.2] | [-0.11506882 -0.3123565  -0.26604404  1.99999613] | 5.548828333956283 | 37 | 0 | ok | 5.5488283339504925 | 0 |\n",
            "| [0.6, 0.6, 0.6, 0.6] | [-0.11506911  2.19826535  1.43969307  1.99999972] | -2.281788806253899 | 155 | 0 | ok | -2.2817888062561047 | 0 |\n",
            "| [1.0, 1.0, 1.0, 1.0] | [-0.1150698   2.19826521  1.43969249  1.99999752] | -2.2817888062474627 | 157 | 0 | ok | -2.2817888062561056 | 0 |\n",
            "| [1.2, 1.2, 1.2, 1.2] | [-0.11506913  2.19826593  1.43969277  1.99999682] | -2.2817888062444887 | 91 | 0 | ok | -2.281788806255293 | 0 |\n"
          ]
        }
      ]
    },
    {
      "cell_type": "markdown",
      "source": [
        "везде, где мой метод завершился усешно, встроенный метод тоже завершился успешно (крме первой строки), значение минимума совпадает с моей функцией"
      ],
      "metadata": {
        "id": "5uRQ-8F_-b-u"
      }
    },
    {
      "cell_type": "markdown",
      "source": [
        "## Зависимость решения от длины шага при точности = 0,0001"
      ],
      "metadata": {
        "id": "MlUbQuaf3JFi"
      }
    },
    {
      "cell_type": "code",
      "source": [
        "res_arr = []\n",
        "res_name = []\n",
        "fun_x0 = [0,0,0,0]\n",
        "# fun_x0 = [3,3,3,3]\n",
        "for i in range(1,100, 1):\n",
        "    rho = i/100\n",
        "    res_arr.append(conjugate_gradient5(fun,fun_x0, rho=rho,tol=0.0001))\n",
        "    res_name.append(str(i))\n",
        "    # print(res_arr[-1])\n",
        "    res_arr[-1][\"right_anser\"]=minimize(fun, x0=np.array(fun_x0), method='CG')\n",
        "    res_arr[-1][\"rho\"] = rho\n"
      ],
      "metadata": {
        "id": "ebiKs8NY3OzB"
      },
      "execution_count": null,
      "outputs": []
    },
    {
      "cell_type": "code",
      "source": [
        "print(\"|--rho--|-----------------------x_min-----------------------|--------f_min-------|--nit--|-status-|--message--|\")\n",
        "rho_res=[]\n",
        "nit_res=[]\n",
        "for i in range(len(res_arr)):\n",
        "    n = res_name[i]\n",
        "    r = res_arr[i]\n",
        "    rho, x_min, f, arr_f, s, nit, m,rr = r[\"rho\"], r[\"x\"], r[\"f_min\"], r[\"arr_f\"], r[\"status\"],r[\"nit\"],r[\"message\"],r[\"right_anser\"]\n",
        "\n",
        "    if s==0:\n",
        "        print(f\"| {rho} | {x_min} | {f} | {nit} | {s} | {m} |\")\n",
        "        rho_res.append(rho)\n",
        "        nit_res.append(nit)"
      ],
      "metadata": {
        "colab": {
          "base_uri": "https://localhost:8080/"
        },
        "id": "5aYYGiFG3VTQ",
        "outputId": "44427d2a-1f80-4be8-f9f0-c77f52693fe4"
      },
      "execution_count": null,
      "outputs": [
        {
          "output_type": "stream",
          "name": "stdout",
          "text": [
            "|--rho--|-----------------------x_min-----------------------|--------f_min-------|--nit--|-status-|--message--|\n",
            "| 0.01 | [-0.11507229 -0.31236085 -0.26604072  1.99996129] | 5.548828335607434 | 75 | 0 | ok |\n",
            "| 0.02 | [-0.11507221 -0.31236063 -0.26604087  1.99995915] | 5.548828335763722 | 51 | 0 | ok |\n",
            "| 0.03 | [-0.11507223 -0.31235974 -0.26604125  1.99996563] | 5.54882833524286 | 41 | 0 | ok |\n",
            "| 0.04 | [-0.11507193 -0.31235985 -0.26604133  1.99995708] | 5.54882833589639 | 34 | 0 | ok |\n",
            "| 0.05 | [-0.11507217 -0.31235934 -0.26604144  1.99996205] | 5.548828335486941 | 30 | 0 | ok |\n",
            "| 0.06 | [-0.11507229 -0.31235888 -0.2660416   1.99996574] | 5.548828335210838 | 27 | 0 | ok |\n",
            "| 0.07 | [-0.11507199 -0.31235924 -0.2660416   1.99995727] | 5.548828335862352 | 24 | 0 | ok |\n",
            "| 0.08 | [-0.11507219 -0.31235927 -0.26604154  1.99995763] | 5.548828335838968 | 22 | 0 | ok |\n",
            "| 0.09 | [-0.11507217 -0.31235759 -0.26604231  1.9999716 ] | 5.548828334809356 | 21 | 0 | ok |\n",
            "| 0.1 | [-0.11507289 -0.31235933 -0.26604103  1.99995983] | 5.548828335691714 | 19 | 0 | ok |\n",
            "| 0.11 | [-0.11507275 -0.31235815 -0.26604143  1.99996617] | 5.548828335188545 | 18 | 0 | ok |\n",
            "| 0.12 | [-0.11507215 -0.31235737 -0.26604231  1.99996971] | 5.548828334917656 | 17 | 0 | ok |\n",
            "| 0.13 | [-0.11507017 -0.31235686 -0.26604234  1.99996934] | 5.548828334902454 | 16 | 0 | ok |\n",
            "| 0.14 | [-0.1150725  -0.31235769 -0.26603998  1.99996976] | 5.548828334989325 | 15 | 0 | ok |\n",
            "| 0.15 | [-0.11507215 -0.3123627  -0.2660397   1.99996621] | 5.548828335350281 | 14 | 0 | ok |\n",
            "| 0.16 | [-0.11506701 -0.3123544  -0.26604717  1.99997919] | 5.548828334438913 | 14 | 0 | ok |\n",
            "| 0.17 | [-0.11506885 -0.31235312 -0.26603896  1.9999618 ] | 5.548828335555273 | 17 | 0 | ok |\n",
            "| 0.18 | [-0.11507182 -0.31235194 -0.26604997  1.99996665] | 5.548828335269141 | 35 | 0 | ok |\n",
            "| 0.19 | [-0.11507148 -0.31235295 -0.26604939  1.99997064] | 5.548828334961031 | 33 | 0 | ok |\n",
            "| 0.2 | [-0.11506874 -0.31235261 -0.2660505   1.99995943] | 5.548828335781138 | 30 | 0 | ok |\n",
            "| 0.21 | [-0.1150664  -0.31235336 -0.26604901  1.99996022] | 5.548828335674745 | 28 | 0 | ok |\n",
            "| 0.22 | [-0.11506498 -0.31235442 -0.26604585  1.99996039] | 5.548828335615508 | 26 | 0 | ok |\n",
            "| 0.23 | [-0.1150708  -0.31235759 -0.26604767  1.9999543 ] | 5.548828336086801 | 23 | 0 | ok |\n",
            "| 0.24 | [-0.11507274 -0.3123571  -0.26604301  1.99996893] | 5.548828334971462 | 20 | 0 | ok |\n",
            "| 0.25 | [-0.11506786 -0.31235663 -0.26604815  2.00003751] | 5.548828335412148 | 21 | 0 | ok |\n",
            "| 0.26 | [-0.11506974 -0.31236127 -0.26604168  1.99997186] | 5.548828334847658 | 24 | 0 | ok |\n",
            "| 0.27 | [-0.11506556 -0.31236229 -0.26604299  1.99996232] | 5.548828335555617 | 22 | 0 | ok |\n",
            "| 0.28 | [-0.11506607 -0.31236284 -0.26604244  1.99996465] | 5.5488283354002395 | 21 | 0 | ok |\n",
            "| 0.29 | [-0.11506616 -0.31236393 -0.26604189  1.99996454] | 5.548828335468494 | 20 | 0 | ok |\n",
            "| 0.3 | [-0.11507177 -0.31236145 -0.26604077  1.99997622] | 5.54882833467874 | 20 | 0 | ok |\n",
            "| 0.31 | [-0.11507194 -0.31236234 -0.26604036  1.99997528] | 5.5488283347753615 | 19 | 0 | ok |\n",
            "| 0.32 | [-0.11507151 -0.31236283 -0.2660404   1.99997481] | 5.548828334808543 | 18 | 0 | ok |\n",
            "| 0.33 | [-0.11507095 -0.31236319 -0.26604068  1.99997463] | 5.548828334815357 | 17 | 0 | ok |\n",
            "| 0.34 | [-0.11506608 -0.3123614  -0.26605213  2.00002481] | 5.548828334931244 | 29 | 0 | ok |\n",
            "| 0.35 | [-0.11506523 -0.31236119 -0.26604073  2.00000752] | 5.548828334211326 | 29 | 0 | ok |\n",
            "| 0.36 | [-0.11506557 -0.31235887 -0.26604396  1.99997397] | 5.548828334705564 | 27 | 0 | ok |\n",
            "| 0.37 | [-0.11506372 -0.31235897 -0.26604637  1.99997315] | 5.548828334845716 | 25 | 0 | ok |\n",
            "| 0.38 | [-0.11506649 -0.31235018 -0.26605008  1.99996394] | 5.548828335531572 | 22 | 0 | ok |\n",
            "| 0.39 | [-0.11506903 -0.31235067 -0.2660423   2.00002301] | 5.548828334595154 | 22 | 0 | ok |\n",
            "| 0.4 | [-0.11507219 -0.31234559 -0.26603891  1.99999042] | 5.548828334583125 | 26 | 0 | ok |\n",
            "| 0.41 | [-0.11507892 -0.312355   -0.26604149  2.00000346] | 5.548828334427154 | 19 | 0 | ok |\n",
            "| 0.42 | [-0.11506501 -0.31236486 -0.26604292  1.99998519] | 5.548828334504133 | 17 | 0 | ok |\n",
            "| 0.43 | [-0.11506424 -0.31235499 -0.26604626  2.00002728] | 5.5488283348222645 | 19 | 0 | ok |\n",
            "| 0.44 | [-0.11507642 -0.31235282 -0.26604631  2.00002525] | 5.548828334869894 | 37 | 0 | ok |\n",
            "| 0.45 | [-0.11506194 -0.31235314 -0.26604486  2.00000687] | 5.5488283342746385 | 29 | 0 | ok |\n",
            "| 0.46 | [-0.11507007 -0.31234776 -0.26604969  1.999983  ] | 5.5488283345889675 | 33 | 0 | ok |\n",
            "| 0.47 | [-0.11506082 -0.31235703 -0.26604122  2.00001763] | 5.54882833463078 | 27 | 0 | ok |\n",
            "| 0.48 | [-0.11506191 -0.31236059 -0.26604438  2.00003112] | 5.548828335226995 | 25 | 0 | ok |\n",
            "| 0.49 | [-0.11506924 -0.3123626  -0.26603954  2.00002344] | 5.548828334721856 | 25 | 0 | ok |\n",
            "| 0.5 | [-0.11507147 -0.31236357 -0.26603778  2.0000241 ] | 5.548828334902977 | 24 | 0 | ok |\n",
            "| 0.51 | [-0.11506882 -0.31235717 -0.26603878  1.99999115] | 5.548828334151299 | 15 | 0 | ok |\n",
            "| 0.52 | [-0.11507453 -0.31235522 -0.26604227  1.99998496] | 5.548828334317379 | 15 | 0 | ok |\n",
            "| 0.53 | [-0.1150735  -0.31235855 -0.26604229  1.99996363] | 5.548828335381664 | 14 | 0 | ok |\n",
            "| 0.54 | [-0.11507159 -0.31236761 -0.26604383  1.99997235] | 5.548828335166259 | 18 | 0 | ok |\n",
            "| 0.55 | [-0.11506737 -0.31236241 -0.26604228  2.00000717] | 5.548828334154699 | 15 | 0 | ok |\n",
            "| 0.56 | [-0.11506969 -0.31235406 -0.2660487   1.9999905 ] | 5.548828334120382 | 15 | 0 | ok |\n",
            "| 0.57 | [-0.11506583 -0.31234495 -0.26604755  2.00000821] | 5.548828334538701 | 16 | 0 | ok |\n",
            "| 0.58 | [-0.11507051 -0.31235357 -0.26604128  2.00003956] | 5.548828335576598 | 16 | 0 | ok |\n",
            "| 0.59 | [-0.11506724 -0.31235659 -0.26604383  2.00004847] | 5.548828336310345 | 14 | 0 | ok |\n",
            "| 0.6 | [-0.11506497 -0.31235149 -0.26604621  1.9999978 ] | 5.548828334122515 | 13 | 0 | ok |\n",
            "| 0.61 | [-0.11506601 -0.31235189 -0.26604885  2.00002194] | 5.548828334615479 | 19 | 0 | ok |\n",
            "| 0.62 | [-0.11506411 -0.31235047 -0.26604705  2.00000443] | 5.548828334227162 | 28 | 0 | ok |\n",
            "| 0.63 | [-0.1150666  -0.31236658 -0.26604754  2.00000578] | 5.548828334406118 | 20 | 0 | ok |\n",
            "| 0.64 | [-0.11506272 -0.31235101 -0.26604754  1.99998208] | 5.548828334595989 | 14 | 0 | ok |\n",
            "| 0.65 | [-0.11507216 -0.31234892 -0.2660472   2.00001628] | 5.548828334458308 | 16 | 0 | ok |\n",
            "| 0.66 | [-0.11506328 -0.31235346 -0.26604067  1.99999291] | 5.548828334244071 | 19 | 0 | ok |\n",
            "| 0.67 | [-0.11507564 -0.31235426 -0.26604877  2.00000136] | 5.54882833421984 | 26 | 0 | ok |\n",
            "| 0.68 | [-0.11507616 -0.31235761 -0.26604387  2.00000259] | 5.548828334174796 | 22 | 0 | ok |\n",
            "| 0.69 | [-0.11506853 -0.31234849 -0.26604948  2.0000126 ] | 5.548828334409688 | 18 | 0 | ok |\n",
            "| 0.7 | [-0.1150761  -0.31235677 -0.26604109  1.99999881] | 5.5488283342043285 | 21 | 0 | ok |\n",
            "| 0.71 | [-0.11507049 -0.31234491 -0.26604474  2.00001335] | 5.548828334564057 | 14 | 0 | ok |\n",
            "| 0.72 | [-0.11507325 -0.31235833 -0.26604695  1.99999529] | 5.548828334074617 | 15 | 0 | ok |\n",
            "| 0.73 | [-0.1150677  -0.31234851 -0.26604785  1.99999942] | 5.54882833420416 | 16 | 0 | ok |\n",
            "| 0.74 | [-0.11506329 -0.3123582  -0.26604233  2.00003301] | 5.548828335228498 | 18 | 0 | ok |\n",
            "| 0.75 | [-0.11506327 -0.31235734 -0.26604117  2.0000259 ] | 5.548828334827305 | 13 | 0 | ok |\n",
            "| 0.76 | [-0.11506614 -0.31235748 -0.26604394  1.99999573] | 5.548828334010104 | 17 | 0 | ok |\n",
            "| 0.77 | [-0.11506244 -0.31235747 -0.26604448  1.99999925] | 5.548828334165132 | 18 | 0 | ok |\n",
            "| 0.78 | [-0.11506257 -0.312357   -0.26604502  2.00002453] | 5.548828334756331 | 17 | 0 | ok |\n",
            "| 0.79 | [-0.11507761 -0.31236278 -0.2660402   1.9999904 ] | 5.548828334571956 | 20 | 0 | ok |\n",
            "| 0.8 | [-0.11507497 -0.31235462 -0.26604468  1.99999682] | 5.548828334110171 | 14 | 0 | ok |\n",
            "| 0.81 | [-0.11506465 -0.31235633 -0.26604233  2.00000629] | 5.548828334098117 | 26 | 0 | ok |\n",
            "| 0.82 | [-0.11507555 -0.31235972 -0.2660433   1.99999265] | 5.548828334222764 | 20 | 0 | ok |\n",
            "| 0.83 | [-0.1150666  -0.31236229 -0.26603969  2.00002616] | 5.548828334871882 | 18 | 0 | ok |\n",
            "| 0.84 | [-0.11507891 -0.31235702 -0.26604254  2.00001383] | 5.5488283345811915 | 20 | 0 | ok |\n",
            "| 0.85 | [-0.11505961 -0.3123565  -0.26604448  2.00000889] | 5.548828334458478 | 16 | 0 | ok |\n",
            "| 0.86 | [-0.11507335 -0.31236155 -0.26603898  2.00002944] | 5.548828335097847 | 19 | 0 | ok |\n",
            "| 0.87 | [-0.11507832 -0.31235403 -0.26604446  2.00002243] | 5.54882833484252 | 20 | 0 | ok |\n",
            "| 0.88 | [-0.1150721  -0.31235207 -0.2660489   1.99999937] | 5.548828334117309 | 21 | 0 | ok |\n",
            "| 0.89 | [-0.11506141 -0.31236084 -0.2660408   1.99998919] | 5.548828334472213 | 24 | 0 | ok |\n",
            "| 0.9 | [-0.11507372 -0.31235178 -0.26604816  1.99999106] | 5.548828334235699 | 21 | 0 | ok |\n",
            "| 0.91 | [-0.11506539 -0.31236321 -0.26603898  2.00000066] | 5.548828334295072 | 25 | 0 | ok |\n",
            "| 0.92 | [-0.11506559 -0.31235141 -0.26604864  1.99998105] | 5.548828334514878 | 22 | 0 | ok |\n",
            "| 0.93 | [-0.11506501 -0.31235022 -0.26604959  1.99996948] | 5.548828335189466 | 22 | 0 | ok |\n",
            "| 0.94 | [-0.11506768 -0.31235061 -0.26604888  1.99999657] | 5.548828334152558 | 21 | 0 | ok |\n",
            "| 0.95 | [-0.11506383 -0.3123523  -0.26604786  1.99997518] | 5.548828334796364 | 22 | 0 | ok |\n",
            "| 0.96 | [-0.11506146 -0.3123587  -0.26604237  1.999975  ] | 5.54882833488947 | 23 | 0 | ok |\n",
            "| 0.97 | [-0.11506243 -0.31235249 -0.26604761  1.99998334] | 5.548828334527051 | 22 | 0 | ok |\n",
            "| 0.98 | [-0.11506159 -0.31235161 -0.26604844  1.9999764 ] | 5.548828334912958 | 22 | 0 | ok |\n",
            "| 0.99 | [-0.11506229 -0.31236099 -0.26604059  1.9999745 ] | 5.548828334955569 | 23 | 0 | ok |\n"
          ]
        }
      ]
    },
    {
      "cell_type": "code",
      "source": [
        "plt.plot(rho_res, nit_res, marker='o', linestyle='-')\n",
        "plt.xlabel(\"rho\")\n",
        "plt.ylabel(\"nit\")\n",
        "plt.title(\"nit vs. rho\")\n",
        "plt.grid(True)\n",
        "plt.show()"
      ],
      "metadata": {
        "colab": {
          "base_uri": "https://localhost:8080/",
          "height": 263
        },
        "id": "s2PR1xzb46ZK",
        "outputId": "8f2e43e3-d352-4d89-c290-2878052b2606"
      },
      "execution_count": null,
      "outputs": [
        {
          "output_type": "display_data",
          "data": {
            "text/plain": [
              "<Figure size 640x480 with 1 Axes>"
            ],
            "image/png": "[encoded data removed]"
          },
          "metadata": {}
        }
      ]
    },
    {
      "cell_type": "markdown",
      "source": [
        "## Зависимость точности от выбранного метода остановки"
      ],
      "metadata": {
        "id": "5OR5X0JuCrTn"
      }
    },
    {
      "cell_type": "code",
      "source": [
        "res_arr3 = []\n",
        "res_name3 = []\n",
        "\n",
        "stop_fun= [\"norm_grad\",\"norm_f\",\"dif_f\"]\n",
        "fun_x0=[0.0,0.0,0.0,0.0]\n",
        "for i in stop_fun:\n",
        "    res_arr3.append(conjugate_gradient5(fun,fun_x0,tol=1e-7,rho=0.4,end_fun=i))\n",
        "    res_name3.append(str(i))\n",
        "    # print(res_arr3[-1])\n",
        "    res_arr3[-1][\"x0\"] = fun_x0\n",
        "print(minimize(fun, x0=np.array(fun_x0), method='CG'))\n",
        "    #res_arr3[-1][\"x0\"] = fun_x0"
      ],
      "metadata": {
        "colab": {
          "base_uri": "https://localhost:8080/"
        },
        "id": "p34RsDF_Df5h",
        "outputId": "bd4dcf28-d9eb-48a4-c079-bc7630a0290b"
      },
      "execution_count": null,
      "outputs": [
        {
          "output_type": "stream",
          "name": "stdout",
          "text": [
            "norm_grad\n",
            "norm_f\n",
            "dif_f\n",
            " message: Optimization terminated successfully.\n",
            " success: True\n",
            "  status: 0\n",
            "     fun: 5.548828333952681\n",
            "       x: [-1.151e-01 -3.124e-01 -2.660e-01  2.000e+00]\n",
            "     nit: 11\n",
            "     jac: [-9.537e-07  1.669e-06  3.338e-06  7.033e-06]\n",
            "    nfev: 110\n",
            "    njev: 22\n"
          ]
        }
      ]
    },
    {
      "cell_type": "code",
      "source": [
        "ii=0\n",
        "for i in res_arr3:\n",
        "    print(\"_\"*30)\n",
        "    print(res_name3[ii])\n",
        "    ii+=1\n",
        "    print(\"_\"*30)\n",
        "    for j in i:\n",
        "        print(j, i[j])"
      ],
      "metadata": {
        "colab": {
          "base_uri": "https://localhost:8080/"
        },
        "id": "eXwDlJ-4MYUI",
        "outputId": "c7f6ac68-73df-4899-9146-fc79999424f4"
      },
      "execution_count": null,
      "outputs": [
        {
          "output_type": "stream",
          "name": "stdout",
          "text": [
            "______________________________\n",
            "norm_grad\n",
            "______________________________\n",
            "message ok\n",
            "status 0\n",
            "nit 22\n",
            "x [-0.11506929 -0.31235628 -0.26604444  1.99999997]\n",
            "f_min 5.54882833393948\n",
            "arr_f [10.0, 7.51083008006254, 5.9927043200393255, 5.613817240341959, 5.557861617140304, 5.55095477131535, 5.549281353067114, 5.548904987455752, 5.548842508550054, 5.548831088341934, 5.548828840428938, 5.548828438093741, 5.548828350747011, 5.5488283375685095, 5.5488283345412235, 5.548828334052852, 5.548828333960764, 5.548828333943317, 5.54882833394025, 5.548828333939622, 5.548828333939506, 5.548828333939486, 5.54882833393948]\n",
            "x0 [0.0, 0.0, 0.0, 0.0]\n",
            "______________________________\n",
            "norm_f\n",
            "______________________________\n",
            "message ok\n",
            "status 0\n",
            "nit 8\n",
            "x [-0.11536704 -0.31233456 -0.26557075  1.99641519]\n",
            "f_min 5.548842508550054\n",
            "arr_f [10.0, 7.51083008006254, 5.9927043200393255, 5.613817240341959, 5.557861617140304, 5.55095477131535, 5.549281353067114, 5.548904987455752, 5.548842508550054]\n",
            "x0 [0.0, 0.0, 0.0, 0.0]\n",
            "______________________________\n",
            "dif_f\n",
            "______________________________\n",
            "message ok\n",
            "status 0\n",
            "nit 12\n",
            "x [-0.11507592 -0.31236762 -0.26602964  1.99987639]\n",
            "f_min 5.548828350747011\n",
            "arr_f [10.0, 7.51083008006254, 5.9927043200393255, 5.613817240341959, 5.557861617140304, 5.55095477131535, 5.549281353067114, 5.548904987455752, 5.548842508550054, 5.548831088341934, 5.548828840428938, 5.548828438093741, 5.548828350747011]\n",
            "x0 [0.0, 0.0, 0.0, 0.0]\n"
          ]
        }
      ]
    }
  ],
  "metadata": {
    "colab": {
      "provenance": [],
      "collapsed_sections": [
        "98j0Ro2WXVUI",
        "yya833kvWM6_"
      ]
    },
    "kernelspec": {
      "display_name": "Python 3",
      "name": "python3"
    }
  },
  "nbformat": 4,
  "nbformat_minor": 0
}