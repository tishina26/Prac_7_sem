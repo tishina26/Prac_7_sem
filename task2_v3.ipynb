{
  "cells": [
    {
      "cell_type": "markdown",
      "source": [
        "Импорт библиотек"
      ],
      "metadata": {
        "id": "r0E57vqZXiyQ"
      }
    },
    {
      "cell_type": "code",
      "source": [
        "import numpy as np\n",
        "import matplotlib.pyplot as plt"
      ],
      "metadata": {
        "id": "nQ90A9PuXiLj"
      },
      "execution_count": 30,
      "outputs": []
    },
    {
      "cell_type": "markdown",
      "source": [
        "#Задание функций, градиентов и гессианов"
      ],
      "metadata": {
        "id": "98j0Ro2WXVUI"
      }
    },
    {
      "cell_type": "markdown",
      "source": [
        "f = $x^2 + y^2 + z^2$ (минимум в 0)\n",
        "\n",
        "g = $x^3 + y^3 - 3xy$  (минимума нет)\n",
        "\n",
        "check_fun = $-2x_0^3 + 4x_0^2 + x_1^4 - 3x_1^2 + 2x_2^2 * x_1 - 5x_2 + x_3^4 - x_3^2 * x_0^2 - 10$ (минимума нет)\n",
        "\n",
        "fun4 = $(x_0+3)^4 + (x_1-1)^2 + (x_2-2)^2 + (x_3+x_0)^2$ (минимум = 0 в точке (-3, 1, 2, 3))"
      ],
      "metadata": {
        "id": "RkZsZZJwXter"
      }
    },
    {
      "cell_type": "code",
      "source": [
        "def f(x):\n",
        "    x,y,z = x\n",
        "    return x**2 + y**2 + z**2\n",
        "\n",
        "def grad_f(x):\n",
        "    x,y,z = x\n",
        "    return np.array([2*x, 2*y, 2*z])\n",
        "\n",
        "def hessian_f(x):\n",
        "    x,y,z = x\n",
        "    return np.array([[2, 0, 0],\n",
        "                    [0, 2, 0],\n",
        "                    [0, 0, 2]])\n",
        "\n",
        "def g(x):\n",
        "    x, y = x\n",
        "    return x**3 + y**3 - 3*x*y\n",
        "\n",
        "def grad_g(x):\n",
        "    x, y = x\n",
        "    return np.array([3*x**2 - 3*y, 3*y**2 - 3*x])\n",
        "\n",
        "def hessian_g(x):\n",
        "    x, y = x\n",
        "    return np.array([[6*x, -3],\n",
        "                    [-3, 6*y]])\n",
        "\n",
        "def check_fun(x):\n",
        "    x0,x1,x2,x3=x\n",
        "    return -2*x0**3 + 4*x0**2 + x1**4 - 3*x1**2 + 2*x2**2 * x1 - 5*x2 + x3**4 - x3**2 * x0**2 - 10\n",
        "def grad_check_fun(x):\n",
        "    x0,x1,x2,x3=x\n",
        "    return np.array([-6*x0**2 + 8*x0 - 2*x3**2 * x0,\n",
        "            4*x1**3 - 6*x1 + 2*x2**2,\n",
        "            4*x2 * x1 - 5,\n",
        "            4*x3**3 - 2*x3 * x0**2])\n",
        "def hessian_check_fun(x):\n",
        "    x0,x1,x2,x3=x\n",
        "    return np.array([[-12*x0 + 8 - 2*x3**2, 0, 0, -4*x3*x0],\n",
        "            [0, 12*x1**2 - 6, 4*x2, 0],\n",
        "            [0, 4*x2, 4*x1, 0],\n",
        "            [-4*x3*x0, 0, 0, 12*x3**2 - 2*x0**2]])\n",
        "\n",
        "def fun4(x):\n",
        "    x0, x1, x2, x3 = x\n",
        "    return (x0+3)**4 + (x1-1)**2 + (x2-2)**2 + (x3+x0)**2\n",
        "def grad_fun4(x):\n",
        "    x0, x1, x2, x3 = x\n",
        "    return [4*(x0+3)**3 + 2*(x3+x0),\n",
        "            2*(x1-1), 2*(x2-2), 2*(x3+x0)]\n",
        "def hessian_fun4(x):\n",
        "    x0, x1, x2, x3 = x\n",
        "    return [[12*(x0+3)**2 + 2,0,0,2],\n",
        "            [0,2,0,0], [0,0,2,0], [2,0,0,2]]\n",
        "\n",
        "def fun5(x):\n",
        "    x0,x1,x2,x3=x\n",
        "    return -2*x0**3+4*x0**2+x1**4-3*x1**3-4*x2**3+2*x2**4-5*x3+x3**2+10+x0+x1+x2+x3\n",
        "def grad_fun5(x):\n",
        "    x0,x1,x2,x3=x\n",
        "    return [-6*x0**2+8*x0+1,  4*x1**3-9*x1**2+1,\n",
        "            -12*x2**2+8*x2**3+1,    -5+2*x3+1]\n",
        "def hessian_fun5(x):\n",
        "    x0,x1,x2,x3=x\n",
        "    return [[-12*x0+8,0,0,0],   [0,12*x1**2-18*x1,0,0],\n",
        "            [0,0,-24*x2+24*x2**2,0],  [0,0,0,2]]"
      ],
      "metadata": {
        "id": "LbSyhLCeIi_5"
      },
      "execution_count": 31,
      "outputs": []
    },
    {
      "cell_type": "markdown",
      "source": [
        "#Проверка на выпуклость"
      ],
      "metadata": {
        "id": "sbxlU4HpLNut"
      }
    },
    {
      "cell_type": "markdown",
      "source": [
        "Метод сопряенных градиентов применим только для выпуклых функций, поэтому сначала надо проверить на выпуклость"
      ],
      "metadata": {
        "id": "o8iHChb9XLwN"
      }
    },
    {
      "cell_type": "code",
      "source": [
        "def check_convexity(func, grad_func, hessian_func, x_range):\n",
        "    for x in x_range:\n",
        "        H = hessian_func(x)\n",
        "        eigenvalues = np.linalg.eigvals(H)\n",
        "        if not np.all(eigenvalues >= 0):\n",
        "            return False\n",
        "    return True"
      ],
      "metadata": {
        "id": "2RLr1KoRIkkC"
      },
      "execution_count": 32,
      "outputs": []
    },
    {
      "cell_type": "code",
      "source": [
        "x = np.linspace(-10, 10, 10)\n",
        "\n",
        "# Проверка выпуклости f(x, y, z)\n",
        "x_range = np.array(np.meshgrid(x, x, x)).T.reshape(-1, 3)\n",
        "is_convex = check_convexity(f, grad_f, hessian_f, x_range)\n",
        "print(f\"f(x, y, z) is convex: {is_convex}\")\n",
        "\n",
        "# Проверка выпуклости g(x, y)\n",
        "y_range = np.array(np.meshgrid(x, x)).T.reshape(-1, 2)\n",
        "is_convex = check_convexity(g, grad_g, hessian_g, y_range)\n",
        "print(f\"g(x, y) is convex: {is_convex}\")\n",
        "\n",
        "#Проверка выпуклости check_fun(x,x,x,x)\n",
        "check_x_range = np.array(np.meshgrid(x, x, x, x)).T.reshape(-1, 4)\n",
        "is_convex = check_convexity(check_fun, grad_check_fun, hessian_check_fun, check_x_range)\n",
        "print(f\"check_fun(x, y, z, k) is convex: {is_convex}\")\n",
        "\n",
        "#Проверка выпуклости fun4(x,x,x,x)\n",
        "fun4_x_range = np.array(np.meshgrid(x, x, x, x)).T.reshape(-1, 4)\n",
        "is_convex = check_convexity(fun4, grad_fun4, hessian_fun4, fun4_x_range)\n",
        "print(f\"fun4(x, y, z, k) is convex: {is_convex}\")\n",
        "\n",
        "#Проверка выпуклости fun5(x,x,x,x)\n",
        "fun5_x_range = np.array(np.meshgrid(x, x, x, x)).T.reshape(-1, 4)\n",
        "is_convex = check_convexity(fun5, grad_fun5, hessian_fun5, fun5_x_range)\n",
        "print(f\"fun5(x, y, z, k) is convex: {is_convex}\")"
      ],
      "metadata": {
        "id": "6jfCMM6KIpUu",
        "outputId": "78b07ecf-2d87-4e3d-ae53-3e479d6ffb9c",
        "colab": {
          "base_uri": "https://localhost:8080/"
        }
      },
      "execution_count": 33,
      "outputs": [
        {
          "output_type": "stream",
          "name": "stdout",
          "text": [
            "f(x, y, z) is convex: True\n",
            "g(x, y) is convex: False\n",
            "check_fun(x, y, z, k) is convex: False\n",
            "fun4(x, y, z, k) is convex: True\n",
            "fun5(x, y, z, k) is convex: False\n"
          ]
        }
      ]
    },
    {
      "cell_type": "markdown",
      "source": [
        "# Реализация действий с матрицами"
      ],
      "metadata": {
        "id": "yya833kvWM6_"
      }
    },
    {
      "cell_type": "code",
      "source": [
        "# перемножение числа и вектора\n",
        "def mult(a, arr):\n",
        "    return np.array([i*a for i in arr])\n",
        "\n",
        "# сложение двух векторов\n",
        "def add(arr1, arr2):\n",
        "    try:\n",
        "        return np.array([arr1[i]+arr2[i] for i in range(len(arr1))])\n",
        "    except TypeError:\n",
        "        arr1+arr2[0]\n",
        "\n",
        "# Скалярное произведение\n",
        "def mydot(arr1, arr2):\n",
        "    try:\n",
        "        ans=0\n",
        "        for i in range(len(arr1)):\n",
        "            ans+=arr1[i]*arr2[i]\n",
        "        return ans\n",
        "    except:\n",
        "        return arr1*arr2[0]\n",
        "# взятие нормы вектора\n",
        "def norm(arr):\n",
        "    return sum(i**2 for i in arr)**0.5\n",
        "\n",
        "# реализация численного приближения градиента\n",
        "def my_grad(f, x, h=1e-5):\n",
        "    grad = np.zeros_like(x)\n",
        "    for i in range(len(x)):\n",
        "        xh = x.copy()\n",
        "        x_h = x.copy()\n",
        "        xh[i] += h\n",
        "        x_h[i] -= h\n",
        "        grad[i] = (f(xh) - f(x_h))/h/2\n",
        "    return grad"
      ],
      "metadata": {
        "id": "SZXt4osqWNnD"
      },
      "execution_count": 34,
      "outputs": []
    },
    {
      "cell_type": "markdown",
      "source": [
        "# Реализация метода сопряженных градиентов"
      ],
      "metadata": {
        "id": "u4LHQ4f3htlT"
      }
    },
    {
      "cell_type": "code",
      "source": [
        "def conjugate_gradient5(f, grad_f, x0, tol=1e-6, max_iter=200, alpha_max=1.0, c=0.5, rho=0.5, alpha_min=1e-8, max_f = 1e15):\n",
        "    \"\"\"\n",
        "    Метод сопряженных градиентов с backtracking line search.\n",
        "\n",
        "    Args:\n",
        "    f: Функция, для которой нужно найти минимум.\n",
        "    grad_f: Градиент функции.\n",
        "    x0: Начальная точка поиска.\n",
        "    tol: Допустимая погрешность.\n",
        "    max_iter: Максимальное количество итераций.\n",
        "    alpha_max: Максимальная длина шага.\n",
        "    c: Параметр для backtracking line search.\n",
        "    rho: Параметр для backtracking line search.\n",
        "    alpha_min: Минимальная длина шага.\n",
        "    max_f: Максимально допустимое значение f, иначе считаем = null.\n",
        "\n",
        "    Returns:\n",
        "    ans = {\"message\", \"status\", \"nit\", \"x\", \"f_min\": arr_f[-1], \"arr_f\": arr_f}\n",
        "    \"\"\"\n",
        "    arr_f = [f(x0)]\n",
        "    x = x0\n",
        "    r = mult(-1, my_grad(f, x))\n",
        "    d = r\n",
        "\n",
        "    ans = {\"message\": \"ok\",\n",
        "           \"status\": 0,\n",
        "           \"nit\": 0,\n",
        "           \"x\": x,\n",
        "           \"f_min\": arr_f[-1],\n",
        "           \"arr_f\": arr_f}\n",
        "\n",
        "    for i in range(max_iter):\n",
        "        ans[\"nit\"]+=1\n",
        "        alpha = alpha_max\n",
        "        # Продвинутый поиск по линии с обратным шагом\n",
        "        while f(add(x, mult(alpha, d))) > f(x) + c * alpha * mydot(my_grad(f, x), d) and alpha > alpha_min:\n",
        "            alpha *= rho\n",
        "\n",
        "        if abs(f(x))>=max_f:\n",
        "            ans[\"message\"] = 'too big f or too small'\n",
        "            ans[\"x\"], ans[\"f_min\"], ans[\"arr_f\"], ans[\"status\"] = x, arr_f[-1], arr_f, 1\n",
        "            return ans\n",
        "        if alpha < alpha_min:  # Если шаг слишком мал, прерываем\n",
        "            ans[\"message\"] = 'too small alpha'\n",
        "            ans[\"x\"], ans[\"f_min\"], ans[\"arr_f\"], ans[\"status\"] = x, arr_f[-1], arr_f, 2\n",
        "            return ans\n",
        "\n",
        "        x = add(x, mult(alpha, d))\n",
        "        arr_f.append(f(x))\n",
        "        r_new = mult(-1, my_grad(f, x))\n",
        "        beta = mydot(r_new, r_new) / mydot(r, r)\n",
        "        d = add(r_new, mult(beta, d))\n",
        "        r = r_new\n",
        "\n",
        "        # Проверка условия сходимости\n",
        "        if norm(r) < tol:\n",
        "            break\n",
        "\n",
        "    ans[\"x\"], ans[\"f_min\"], ans[\"arr_f\"] = x, arr_f[-1], arr_f\n",
        "    return ans"
      ],
      "metadata": {
        "id": "t0TDuAqE7-Yt"
      },
      "execution_count": 35,
      "outputs": []
    },
    {
      "cell_type": "markdown",
      "source": [
        "#Применение метода сопряженных градиентов"
      ],
      "metadata": {
        "id": "zGUKEEUWLufe"
      }
    },
    {
      "cell_type": "code",
      "source": [
        "# Начальные точки\n",
        "x0_1 = [1, 1, 6]\n",
        "x0_2 = [8, -2]\n",
        "check_x_0 = [-1,-1,-1,-1]\n",
        "fun4_x0 = [-1,0.5,0.5,0.5]\n",
        "fun5_x0=[-0.5,2.5,1.5,2.0]"
      ],
      "metadata": {
        "id": "VxWevugLMP0u"
      },
      "execution_count": 36,
      "outputs": []
    },
    {
      "cell_type": "code",
      "source": [
        "res1 = conjugate_gradient5(f, grad_f, x0_1)\n",
        "res2 = conjugate_gradient5(g, grad_g, x0_2)\n",
        "check_res = conjugate_gradient5(check_fun, grad_check_fun, check_x_0)\n",
        "res4 = conjugate_gradient5(fun4, grad_fun4, fun4_x0)\n",
        "res5 = conjugate_gradient5(fun5, grad_fun5, fun5_x0)"
      ],
      "metadata": {
        "id": "AmRNx5tIQHuu",
        "collapsed": true
      },
      "execution_count": 37,
      "outputs": []
    },
    {
      "cell_type": "code",
      "source": [
        "def to_float(value):\n",
        "    try:\n",
        "      arr = []\n",
        "      for i in value:\n",
        "        arr.append(\"{:.2f}\".format(i))\n",
        "      return arr\n",
        "    except:\n",
        "      return \"{:.2f}\".format(value)\n",
        "\n",
        "res_arr = [res1, res2, check_res, res4, res5]\n",
        "res_name = [\"1\", \"2\", \"3\", \"4\", \"5\"]\n",
        "for i in range(len(res_arr)):\n",
        "    n = res_name[i]\n",
        "    r = res_arr[i]\n",
        "    x, f, arr_f, s = r[\"x\"], r[\"f_min\"], r[\"arr_f\"], r[\"status\"],\n",
        "    # print(f\"x_min{n}: {to_float(x)}, f_min{n} = {to_float(f)} in {len(arr_f)} iterations with status = {s}\")\n",
        "    print(\"_\"*30)\n",
        "    print(f\"\\t resses for fun{n}\")\n",
        "    print(\"_\"*30)\n",
        "    for j in r: print(j,\":\", r[j])"
      ],
      "metadata": {
        "id": "RYXJ7r44RZED",
        "outputId": "675f1e00-c880-4b54-a589-c11f6892b163",
        "colab": {
          "base_uri": "https://localhost:8080/"
        }
      },
      "execution_count": 45,
      "outputs": [
        {
          "output_type": "stream",
          "name": "stdout",
          "text": [
            "______________________________\n",
            "\t resses for fun1\n",
            "______________________________\n",
            "message : ok\n",
            "status : 0\n",
            "nit : 14\n",
            "x : [-3.67238076e-08 -3.67238076e-08 -1.87282572e-07]\n",
            "f_min : 3.777203792212465e-14\n",
            "arr_f : [38, 0.75, 0.1524390243898475, 0.010501657291865944, 0.0010621855734527532, 9.182738493142327e-05, 8.46359985638574e-06, 7.598719986195372e-07, 6.895907784466114e-08, 6.230622126651575e-09, 5.6396734732375e-10, 5.1010080290019146e-11, 4.615187054296087e-12, 4.1751189745368417e-13, 3.777203792212465e-14]\n",
            "______________________________\n",
            "\t resses for fun2\n",
            "______________________________\n",
            "message : too big f or too small\n",
            "status : 1\n",
            "nit : 3\n",
            "x : [-58194131.7081309    3242624.75525305]\n",
            "f_min : -1.970436465556398e+23\n",
            "arr_f : [552, -6745437.0, -1.970436465556398e+23]\n",
            "______________________________\n",
            "\t resses for fun3\n",
            "______________________________\n",
            "message : too big f or too small\n",
            "status : 1\n",
            "nit : 3\n",
            "x : [ 4.23473057e+04 -1.01930764e+04 -1.20000000e+01  7.18505095e+03]\n",
            "f_min : -7.92705188228059e+16\n",
            "arr_f : [-3, -2103.0, -7.92705188228059e+16]\n",
            "______________________________\n",
            "\t resses for fun4\n",
            "______________________________\n",
            "message : ok\n",
            "status : 0\n",
            "nit : 129\n",
            "x : [-2.99472138  1.00000011  2.00000033  2.9947211 ]\n",
            "f_min : 7.765895255094651e-10\n",
            "arr_f : [18.75, 8.561424314820293, 5.013255506297735, 2.237968559061228, 0.4491336882552906, 0.07825449528703912, 0.05108003021757364, 0.018777341917092395, 0.0029116282770327243, 0.0018042153382209884, 0.0012801393312883438, 0.001061781710412388, 0.00042405179620588247, 0.00024895873128665463, 0.0002120266777551461, 0.00017923634093589287, 0.00014992928793353808, 0.00010397002022481462, 9.225744512073314e-05, 6.227107513034417e-05, 4.200763042803713e-05, 1.7789526830901385e-05, 1.683231067737045e-05, 1.6068552802406565e-05, 1.4488221878198376e-05, 1.1706061267893902e-05, 3.889032140276094e-06, 2.9791551410560973e-06, 2.8894373965287382e-06, 2.827502128539366e-06, 2.6135485019253934e-06, 2.5263837357562992e-06, 2.382990683258374e-06, 2.1944024008080605e-06, 1.9878563892790556e-06, 1.785870533219322e-06, 1.56462753715761e-06, 1.3680390962373302e-06, 1.1644317568654885e-06, 9.798256023427149e-07, 8.249942714667613e-07, 6.439682233452265e-07, 5.715701031867039e-07, 4.1947152790944495e-07, 3.627978197967043e-07, 2.95044500805752e-07, 2.151394097604751e-07, 1.684965133906253e-07, 1.5622830644976966e-07, 1.2812949338610878e-07, 1.1914901708461786e-07, 1.1302369596446271e-07, 1.111722314259637e-07, 1.0931790245443457e-07, 1.0854007996291032e-07, 1.0640229053084322e-07, 1.0424564627959212e-07, 9.897135091991647e-08, 9.488538653139475e-08, 8.846697851684192e-08, 8.723429791564172e-08, 8.455508756483132e-08, 8.208740131258881e-08, 7.87691780632958e-08, 7.736065643767163e-08, 7.654732147177009e-08, 7.513231048179573e-08, 7.32733514031707e-08, 7.228152161031436e-08, 7.067083155897009e-08, 6.848752906480275e-08, 6.738385813222287e-08, 6.618792012346826e-08, 6.350146529549217e-08, 6.106673766105781e-08, 5.631469493016807e-08, 4.4459033910047303e-08, 1.6341368010854934e-08, 1.3732758996042305e-08, 1.1841452592703124e-08, 7.257173586494255e-09, 6.227002524409916e-09, 6.189627574701829e-09, 6.164623412265188e-09, 6.067253269573155e-09, 5.800848145493062e-09, 5.387838193194479e-09, 3.451329017571441e-09, 2.6677323399162433e-09, 2.460594912500451e-09, 2.380471014109801e-09, 2.3496500622119487e-09, 2.326604057184957e-09, 2.3146771955143005e-09, 2.310943365393431e-09, 2.3066453940728794e-09, 2.3048094104502333e-09, 2.302598036878153e-09, 2.2981782053180805e-09, 2.2905423254548283e-09, 2.2814139337811557e-09, 2.2630335366360974e-09, 2.2357797497506297e-09, 2.199880519164918e-09, 2.1728538591214633e-09, 2.095232632563919e-09, 2.032398637293672e-09, 1.9875668463077857e-09, 1.9089547610952585e-09, 1.822061809098497e-09, 1.7423354351357137e-09, 1.6692696018582954e-09, 1.4304502471865526e-09, 1.2882605014758453e-09, 1.181753016213891e-09, 1.0272882571298342e-09, 8.766946557716777e-10, 8.474402118834816e-10, 8.208395118339821e-10, 8.060954036071984e-10, 7.997560205384364e-10, 7.924349405706328e-10, 7.885043631478598e-10, 7.859002035577191e-10, 7.826228462171408e-10, 7.790411820493444e-10, 7.782584753199695e-10, 7.775017016388783e-10, 7.76893337268039e-10, 7.765895255094651e-10]\n",
            "______________________________\n",
            "\t resses for fun5\n",
            "______________________________\n",
            "message : ok\n",
            "status : 0\n",
            "nit : 21\n",
            "x : [-0.11506934  2.19826555  1.43969263  2.        ]\n",
            "f_min : -2.281788806256098\n",
            "arr_f : [-0.4375, -1.9115416371215739, -2.1783969318084497, -2.2523166550119695, -2.275619850328345, -2.2808835609973994, -2.281614090525237, -2.2817417127422814, -2.281777458605439, -2.2817868128218532, -2.281788456089924, -2.281788723311308, -2.2817887864301722, -2.2817888023866146, -2.2817888055325946, -2.2817888060909777, -2.2817888062182217, -2.281788806248877, -2.281788806254757, -2.281788806255795, -2.281788806256035, -2.281788806256098]\n"
          ]
        }
      ]
    },
    {
      "cell_type": "markdown",
      "source": [
        "#Графики"
      ],
      "metadata": {
        "id": "YN2oVHl6V1z5"
      }
    },
    {
      "cell_type": "code",
      "source": [
        "import matplotlib.pyplot as plt\n",
        "n = len(res_arr)\n",
        "# Создаем фигуру и оси для трех графиков\n",
        "fig, axs = plt.subplots(2, n//2+n%2, figsize=(10, n))\n",
        "cnt = 1\n",
        "for i in range(2):\n",
        "    for j in range(n//2+n%2):\n",
        "        # print(i,j,i*n//2+n%2+j+i)\n",
        "        r = res_arr[cnt-1]\n",
        "        r_name = \"fun\"+res_name[cnt-1]\n",
        "        axs[i][j].plot(range(len(r[\"arr_f\"])), r[\"arr_f\"], label=r_name)\n",
        "        axs[i][j].set_xlabel(\"k\")\n",
        "        axs[i][j].set_ylabel(\"F(x_k)\")\n",
        "        axs[i][j].set_title(r_name)\n",
        "        axs[i][j].legend()\n",
        "\n",
        "        cnt += 1\n",
        "        if cnt > n: break\n",
        "    if cnt > n: break\n",
        "\n",
        "\n",
        "# Показываем графики\n",
        "plt.tight_layout()  # Для улучшения расположения графиков\n",
        "plt.show()"
      ],
      "metadata": {
        "colab": {
          "base_uri": "https://localhost:8080/",
          "height": 507
        },
        "id": "d9gMlVkHiaH0",
        "outputId": "a4eeb12f-e40d-481c-d45a-6cc102334a1d"
      },
      "execution_count": 46,
      "outputs": [
        {
          "output_type": "display_data",
          "data": {
            "text/plain": [
              "<Figure size 1000x500 with 6 Axes>"
            ],
            "image/png": "[encoded data removed]"
          },
          "metadata": {}
        }
      ]
    },
    {
      "cell_type": "markdown",
      "source": [
        "Аналогично: первая функция нашла свой минимум за 2 итерации, 2-я не нашла минимум корректно (значения после 3-й итерации = nan, что не отображено на графике), 3-я тоже ничего не нашла на третьей итерации став = nan, а вот 4-я за 138 итераций вполне успешно нашла минимум"
      ],
      "metadata": {
        "id": "TRhREEgTYSfd"
      }
    }
  ],
  "metadata": {
    "colab": {
      "provenance": []
    },
    "kernelspec": {
      "display_name": "Python 3",
      "name": "python3"
    }
  },
  "nbformat": 4,
  "nbformat_minor": 0
}